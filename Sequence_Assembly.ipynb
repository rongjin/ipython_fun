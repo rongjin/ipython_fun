{
 "cells": [
  {
   "cell_type": "markdown",
   "metadata": {},
   "source": [
    "The following are algorithms about assembly"
   ]
  },
  {
   "cell_type": "code",
   "execution_count": 1,
   "metadata": {
    "collapsed": true
   },
   "outputs": [],
   "source": [
    "def readGenome(filename):\n",
    "    genome = ''\n",
    "    with open(filename, 'r') as f:\n",
    "        for line in f:\n",
    "            # ignore header line with genome information\n",
    "            if not line[0] == '>':\n",
    "                genome += line.rstrip()\n",
    "    return genome\n",
    "def readFastq(filename):\n",
    "    sequences = []\n",
    "    qualities = []\n",
    "    with open(filename) as fh:\n",
    "        while True:\n",
    "            fh.readline()  # skip name line\n",
    "            seq = fh.readline().rstrip()  # read base sequence\n",
    "            fh.readline()  # skip placeholder line\n",
    "            qual = fh.readline().rstrip() # base quality line\n",
    "            if len(seq) == 0:\n",
    "                break\n",
    "            sequences.append(seq)\n",
    "            qualities.append(qual)\n",
    "    return sequences, qualities"
   ]
  },
  {
   "cell_type": "markdown",
   "metadata": {},
   "source": [
    "build overlap graph by finding overlapping sequence"
   ]
  },
  {
   "cell_type": "code",
   "execution_count": 4,
   "metadata": {
    "collapsed": true
   },
   "outputs": [],
   "source": [
    "def overlap(a, b, min_length=3):\n",
    "    \"\"\" Return length of longest suffix of 'a' matching\n",
    "        a prefix of 'b' that is at least 'min_length'\n",
    "        characters long.  If no such overlap exists,\n",
    "        return 0. \"\"\"\n",
    "    start = 0  # start all the way at the left\n",
    "    while True:\n",
    "        start = a.find(b[:min_length], start)  # look for b's prefix in a\n",
    "        if start == -1:  # no more occurrences to right\n",
    "            return 0\n",
    "        # found occurrence; check for full suffix/prefix match\n",
    "        if b.startswith(a[start:]):\n",
    "            return len(a)-start\n",
    "        start += 1  # move just past previous match\n",
    "def overlap_all_pairs(seq,length):\n",
    "    #build dictionary\n",
    "    kmer_dict = {}\n",
    "    for s in seq:\n",
    "        for i in range(len(s)-length+1):\n",
    "            start = i\n",
    "            end = i+length\n",
    "            kmer = s[start:end]\n",
    "            if kmer in kmer_dict:\n",
    "                kmer_dict[kmer].append(s)\n",
    "            else:\n",
    "                kmer_dict[kmer] = [s]\n",
    "    #print kmer_dict\n",
    "    #find overlap\n",
    "    match_pairs = []\n",
    "    for a in seq:\n",
    "        suffix = a[-length:]\n",
    "        match = kmer_dict[suffix]\n",
    "        for b in match:\n",
    "            if b==a:\n",
    "                continue\n",
    "            ol = overlap(a, b, min_length=length)\n",
    "            if ol!=0:\n",
    "                match_pairs.append((a,b))\n",
    "    return match_pairs"
   ]
  },
  {
   "cell_type": "code",
   "execution_count": 5,
   "metadata": {
    "collapsed": false
   },
   "outputs": [
    {
     "name": "stdout",
     "output_type": "stream",
     "text": [
      "904746\n"
     ]
    }
   ],
   "source": [
    "phi_sequence,qualities = readFastq('ERR266411_1.for_asm.fastq')\n",
    "pairs = overlap_all_pairs(phi_sequence, 30)\n",
    "print(len(pairs))"
   ]
  },
  {
   "cell_type": "markdown",
   "metadata": {},
   "source": [
    "Greedy assembly algorithm"
   ]
  },
  {
   "cell_type": "code",
   "execution_count": 10,
   "metadata": {
    "collapsed": true
   },
   "outputs": [],
   "source": [
    "import itertools"
   ]
  },
  {
   "cell_type": "code",
   "execution_count": 16,
   "metadata": {
    "collapsed": true
   },
   "outputs": [],
   "source": [
    "def pick_maximal_overlap(reads, k,kmer_dict):\n",
    "    \"\"\" Return a pair of reads from the list with a\n",
    "        maximal suffix/prefix overlap >= k.  Returns\n",
    "        overlap length 0 if there are no such overlaps.\"\"\"\n",
    "    reada, readb = None, None\n",
    "    best_olen = 0\n",
    "    for a, b in itertools.permutations(reads, 2):\n",
    "        suffix = a[-k:]\n",
    "        match = kmer_dict[suffix]\n",
    "        if b not in match:\n",
    "            continue\n",
    "        olen = overlap(a, b, min_length=k)\n",
    "        if olen > best_olen:\n",
    "            reada, readb = a, b\n",
    "            best_olen = olen\n",
    "    return reada, readb, best_olen\n",
    "def greedy_scs(reads, k):\n",
    "    \"\"\" Greedy shortest-common-superstring merge.\n",
    "        Repeat until no edges (overlaps of length >= k)\n",
    "        remain. \"\"\"\n",
    "    kmer_dict = {}\n",
    "    for s in reads:\n",
    "        for i in range(len(s)-k+1):\n",
    "            start = i\n",
    "            end = i+k\n",
    "            kmer = s[start:end]\n",
    "            if kmer in kmer_dict:\n",
    "                kmer_dict[kmer].append(s)\n",
    "            else:\n",
    "                kmer_dict[kmer] = [s]\n",
    "    print (len(kmer_dict))\n",
    "    read_a, read_b, olen = pick_maximal_overlap(reads, k,kmer_dict)\n",
    "    while olen > 0:\n",
    "        if len(reads)%10==0:\n",
    "            print len(reads)\n",
    "        reads.remove(read_a)\n",
    "        reads.remove(read_b)\n",
    "        reads.append(read_a + read_b[olen:])\n",
    "        read_a, read_b, olen = pick_maximal_overlap(reads, k,kmer_dict)\n",
    "    return ''.join(reads)"
   ]
  },
  {
   "cell_type": "code",
   "execution_count": null,
   "metadata": {
    "collapsed": true
   },
   "outputs": [],
   "source": [
    "virus_sequence,qualities = readFastq('ads1_week4_reads.fq')\n",
    "assem = greedy_scs(virus_sequence, 10)\n",
    "print(len(assem))"
   ]
  },
  {
   "cell_type": "code",
   "execution_count": 28,
   "metadata": {
    "collapsed": false
   },
   "outputs": [
    {
     "name": "stdout",
     "output_type": "stream",
     "text": [
      "15668\n",
      "15894\n"
     ]
    }
   ],
   "source": [
    "assem = greedy_scs(virus_sequence, 10)\n",
    "print(len(assem))"
   ]
  },
  {
   "cell_type": "code",
   "execution_count": null,
   "metadata": {
    "collapsed": true
   },
   "outputs": [],
   "source": []
  }
 ],
 "metadata": {
  "kernelspec": {
   "display_name": "Python 2",
   "language": "python",
   "name": "python2"
  },
  "language_info": {
   "codemirror_mode": {
    "name": "ipython",
    "version": 2
   },
   "file_extension": ".py",
   "mimetype": "text/x-python",
   "name": "python",
   "nbconvert_exporter": "python",
   "pygments_lexer": "ipython2",
   "version": "2.7.11"
  }
 },
 "nbformat": 4,
 "nbformat_minor": 0
}
